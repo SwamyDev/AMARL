{
 "cells": [
  {
   "cell_type": "markdown",
   "metadata": {
    "pycharm": {
     "name": "#%% md\n"
    }
   },
   "source": [
    "# Trainers\n",
    "\n",
    "In this notebook I test trainer implementations on various environments."
   ]
  },
  {
   "cell_type": "markdown",
   "metadata": {
    "pycharm": {
     "name": "#%% md\n"
    }
   },
   "source": [
    "## Monitoring setup\n",
    "This sets up the logging system to be able to monitor the training progress of the agent"
   ]
  },
  {
   "cell_type": "code",
   "execution_count": 1,
   "metadata": {
    "pycharm": {
     "is_executing": false,
     "name": "#%%\n"
    }
   },
   "outputs": [
    {
     "name": "stderr",
     "output_type": "stream",
     "text": [
      "/home/bernhard/miniconda3/envs/AMARL/lib/python3.6/site-packages/tensorflow/python/framework/dtypes.py:523: FutureWarning: Passing (type, 1) or '1type' as a synonym of type is deprecated; in a future version of numpy, it will be understood as (type, (1,)) / '(1,)type'.\n",
      "  _np_qint8 = np.dtype([(\"qint8\", np.int8, 1)])\n",
      "/home/bernhard/miniconda3/envs/AMARL/lib/python3.6/site-packages/tensorflow/python/framework/dtypes.py:524: FutureWarning: Passing (type, 1) or '1type' as a synonym of type is deprecated; in a future version of numpy, it will be understood as (type, (1,)) / '(1,)type'.\n",
      "  _np_quint8 = np.dtype([(\"quint8\", np.uint8, 1)])\n",
      "/home/bernhard/miniconda3/envs/AMARL/lib/python3.6/site-packages/tensorflow/python/framework/dtypes.py:525: FutureWarning: Passing (type, 1) or '1type' as a synonym of type is deprecated; in a future version of numpy, it will be understood as (type, (1,)) / '(1,)type'.\n",
      "  _np_qint16 = np.dtype([(\"qint16\", np.int16, 1)])\n",
      "/home/bernhard/miniconda3/envs/AMARL/lib/python3.6/site-packages/tensorflow/python/framework/dtypes.py:526: FutureWarning: Passing (type, 1) or '1type' as a synonym of type is deprecated; in a future version of numpy, it will be understood as (type, (1,)) / '(1,)type'.\n",
      "  _np_quint16 = np.dtype([(\"quint16\", np.uint16, 1)])\n",
      "/home/bernhard/miniconda3/envs/AMARL/lib/python3.6/site-packages/tensorflow/python/framework/dtypes.py:527: FutureWarning: Passing (type, 1) or '1type' as a synonym of type is deprecated; in a future version of numpy, it will be understood as (type, (1,)) / '(1,)type'.\n",
      "  _np_qint32 = np.dtype([(\"qint32\", np.int32, 1)])\n",
      "/home/bernhard/miniconda3/envs/AMARL/lib/python3.6/site-packages/tensorflow/python/framework/dtypes.py:532: FutureWarning: Passing (type, 1) or '1type' as a synonym of type is deprecated; in a future version of numpy, it will be understood as (type, (1,)) / '(1,)type'.\n",
      "  np_resource = np.dtype([(\"resource\", np.ubyte, 1)])\n"
     ]
    }
   ],
   "source": [
    "import logging\n",
    "from amarl.messenger import training_monitor\n",
    "\n",
    "logging.basicConfig(level=logging.INFO,\n",
    "                    format='%(asctime)s - %(levelname)s:%(name)s: %(message)s')\n",
    "logging.root.setLevel(logging.INFO)\n",
    "\n",
    "logger = logging.getLogger(__name__)"
   ]
  },
  {
   "cell_type": "markdown",
   "metadata": {
    "pycharm": {
     "name": "#%% md\n"
    }
   },
   "source": [
    "## A2C Agent\n",
    "This section trains and analyses the A2C implementation. With it I can validate the basic A2C algorithm and see if it \n",
    "works on a variety of environments."
   ]
  },
  {
   "cell_type": "markdown",
   "metadata": {
    "pycharm": {
     "name": "#%% md\n"
    }
   },
   "source": [
    "### Train the Agent\n",
    "In the part I actually train the agent on one of the testing environments. It is a good idea to look at the gym unit\n",
    "testing environment first and try to solve that. If this doesn't work, there is something wrong either with the\n",
    "algorithm or the setup. Also make sure to sanity check input signal. Here the problem was that the input image was\n",
    "actually completely mangled by the torch vision pipeline because I used it wrong initially."
   ]
  },
  {
   "cell_type": "code",
   "execution_count": 8,
   "metadata": {
    "pycharm": {
     "name": "#%%\n"
    }
   },
   "outputs": [
    {
     "name": "stderr",
     "output_type": "stream",
     "text": [
      "/home/bernhard/miniconda3/envs/AMARL/lib/python3.6/site-packages/gym/envs/registration.py:14: PkgResourcesDeprecationWarning: Parameters to load are deprecated.  Call .resolve and .require separately.\n",
      "  result = entry_point.load(False)\n"
     ]
    },
    {
     "name": "stdout",
     "output_type": "stream",
     "text": [
      "\u001B[33mWARN: gym.spaces.Box autodetected dtype as <class 'numpy.float32'>. Please provide explicit dtype.\u001B[0m\n",
      "\u001B[33mWARN: gym.spaces.Box autodetected dtype as <class 'numpy.float32'>. Please provide explicit dtype.\u001B[0m\n",
      "\u001B[33mWARN: gym.spaces.Box autodetected dtype as <class 'numpy.float32'>. Please provide explicit dtype.\u001B[0m\n",
      "\u001B[33mWARN: gym.spaces.Box autodetected dtype as <class 'numpy.float32'>. Please provide explicit dtype.\u001B[0m\n",
      "\u001B[33mWARN: gym.spaces.Box autodetected dtype as <class 'numpy.float32'>. Please provide explicit dtype.\u001B[0m\n",
      "\u001B[33mWARN: gym.spaces.Box autodetected dtype as <class 'numpy.float32'>. Please provide explicit dtype.\u001B[0m\n",
      "\u001B[33mWARN: gym.spaces.Box autodetected dtype as <class 'numpy.float32'>. Please provide explicit dtype.\u001B[0m\n",
      "\u001B[33mWARN: gym.spaces.Box autodetected dtype as <class 'numpy.float32'>. Please provide explicit dtype.\u001B[0m\n",
      "\u001B[33mWARN: gym.spaces.Box autodetected dtype as <class 'numpy.float32'>. Please provide explicit dtype.\u001B[0m\n",
      "\u001B[33mWARN: gym.spaces.Box autodetected dtype as <class 'numpy.float32'>. Please provide explicit dtype.\u001B[0m\n",
      "\u001B[33mWARN: gym.spaces.Box autodetected dtype as <class 'numpy.float32'>. Please provide explicit dtype.\u001B[0m\n",
      "\u001B[33mWARN: gym.spaces.Box autodetected dtype as <class 'numpy.float32'>. Please provide explicit dtype.\u001B[0m\n",
      "\u001B[33mWARN: gym.spaces.Box autodetected dtype as <class 'numpy.float32'>. Please provide explicit dtype.\u001B[0m\n",
      "\u001B[33mWARN: gym.spaces.Box autodetected dtype as <class 'numpy.float32'>. Please provide explicit dtype.\u001B[0m\n",
      "\u001B[33mWARN: gym.spaces.Box autodetected dtype as <class 'numpy.float32'>. Please provide explicit dtype.\u001B[0m\n",
      "\u001B[33mWARN: gym.spaces.Box autodetected dtype as <class 'numpy.float32'>. Please provide explicit dtype.\u001B[0m\n"
     ]
    },
    {
     "name": "stderr",
     "output_type": "stream",
     "text": [
      "2020-04-13 11:06:54,449 - INFO:__main__: steps:    2960, average reward:\t-0.76\n",
      "2020-04-13 11:06:55,865 - INFO:__main__: steps:    6112, average reward:\t-0.66\n",
      "2020-04-13 11:06:57,105 - INFO:__main__: steps:    8960, average reward:\t-0.60\n",
      "2020-04-13 11:06:57,561 - INFO:__main__: steps:   10000, performance:\t2241.08 steps/s\n",
      "2020-04-13 11:06:58,377 - INFO:__main__: steps:   11887, average reward:\t-0.64\n",
      "2020-04-13 11:06:59,553 - INFO:__main__: steps:   14608, average reward:\t-0.58\n",
      "2020-04-13 11:07:00,817 - INFO:__main__: steps:   17504, average reward:\t-0.64\n",
      "2020-04-13 11:07:01,913 - INFO:__main__: steps:   20000, performance:\t2298.10 steps/s\n",
      "2020-04-13 11:07:02,085 - INFO:__main__: steps:   20383, average reward:\t-0.74\n",
      "2020-04-13 11:07:03,379 - INFO:__main__: steps:   23341, average reward:\t-0.68\n",
      "2020-04-13 11:07:04,618 - INFO:__main__: steps:   26192, average reward:\t-0.58\n",
      "2020-04-13 11:07:05,774 - INFO:__main__: steps:   28784, average reward:\t-0.78\n",
      "2020-04-13 11:07:06,326 - INFO:__main__: steps:   30000, performance:\t2266.79 steps/s\n",
      "2020-04-13 11:07:07,140 - INFO:__main__: steps:   31712, average reward:\t-0.68\n",
      "2020-04-13 11:07:08,385 - INFO:__main__: steps:   34464, average reward:\t-0.68\n",
      "2020-04-13 11:07:09,761 - INFO:__main__: steps:   37423, average reward:\t-0.62\n",
      "2020-04-13 11:07:10,955 - INFO:__main__: steps:   40000, performance:\t2160.50 steps/s\n",
      "2020-04-13 11:07:11,078 - INFO:__main__: steps:   40256, average reward:\t-0.80\n",
      "2020-04-13 11:07:12,369 - INFO:__main__: steps:   43168, average reward:\t-0.70\n",
      "2020-04-13 11:07:13,648 - INFO:__main__: steps:   45968, average reward:\t-0.66\n",
      "2020-04-13 11:07:14,929 - INFO:__main__: steps:   48928, average reward:\t-0.62\n",
      "2020-04-13 11:07:15,387 - INFO:__main__: steps:   50000, performance:\t2256.60 steps/s\n",
      "2020-04-13 11:07:16,233 - INFO:__main__: steps:   51888, average reward:\t-0.58\n",
      "2020-04-13 11:07:17,586 - INFO:__main__: steps:   54816, average reward:\t-0.66\n",
      "2020-04-13 11:07:18,930 - INFO:__main__: steps:   57728, average reward:\t-0.62\n",
      "2020-04-13 11:07:19,974 - INFO:__main__: steps:   60000, performance:\t2180.53 steps/s\n",
      "2020-04-13 11:07:20,282 - INFO:__main__: steps:   60640, average reward:\t-0.64\n",
      "2020-04-13 11:07:21,646 - INFO:__main__: steps:   63679, average reward:\t-0.48\n",
      "2020-04-13 11:07:22,956 - INFO:__main__: steps:   66576, average reward:\t-0.70\n",
      "2020-04-13 11:07:24,232 - INFO:__main__: steps:   69424, average reward:\t-0.64\n",
      "2020-04-13 11:07:24,483 - INFO:__main__: steps:   70000, performance:\t2218.22 steps/s\n",
      "2020-04-13 11:07:25,544 - INFO:__main__: steps:   72415, average reward:\t-0.68\n",
      "2020-04-13 11:07:26,810 - INFO:__main__: steps:   75312, average reward:\t-0.70\n",
      "2020-04-13 11:07:28,188 - INFO:__main__: steps:   78336, average reward:\t-0.52\n",
      "2020-04-13 11:07:28,949 - INFO:__main__: steps:   80000, performance:\t2239.38 steps/s\n",
      "2020-04-13 11:07:29,492 - INFO:__main__: steps:   81184, average reward:\t-0.60\n",
      "2020-04-13 11:07:30,778 - INFO:__main__: steps:   84144, average reward:\t-0.56\n",
      "2020-04-13 11:07:32,082 - INFO:__main__: steps:   87151, average reward:\t-0.62\n",
      "2020-04-13 11:07:33,317 - INFO:__main__: steps:   89968, average reward:\t-0.70\n",
      "2020-04-13 11:07:33,331 - INFO:__main__: steps:   90000, performance:\t2282.36 steps/s\n",
      "2020-04-13 11:07:34,688 - INFO:__main__: steps:   92992, average reward:\t-0.50\n",
      "2020-04-13 11:07:36,036 - INFO:__main__: steps:   95920, average reward:\t-0.58\n",
      "2020-04-13 11:07:37,298 - INFO:__main__: steps:   98830, average reward:\t-0.70\n",
      "2020-04-13 11:07:37,802 - INFO:__main__: steps:  100000, performance:\t2237.13 steps/s\n",
      "2020-04-13 11:07:38,558 - INFO:__main__: steps:  101727, average reward:\t-0.64\n",
      "2020-04-13 11:07:39,856 - INFO:__main__: steps:  104671, average reward:\t-0.60\n",
      "2020-04-13 11:07:41,158 - INFO:__main__: steps:  107664, average reward:\t-0.58\n",
      "2020-04-13 11:07:42,172 - INFO:__main__: steps:  110000, performance:\t2288.59 steps/s\n",
      "2020-04-13 11:07:42,416 - INFO:__main__: steps:  110559, average reward:\t-0.58\n",
      "2020-04-13 11:07:43,724 - INFO:__main__: steps:  113535, average reward:\t-0.52\n",
      "2020-04-13 11:07:44,980 - INFO:__main__: steps:  116432, average reward:\t-0.78\n",
      "2020-04-13 11:07:46,212 - INFO:__main__: steps:  119280, average reward:\t-0.64\n",
      "2020-04-13 11:07:46,561 - INFO:__main__: steps:  120000, performance:\t2278.41 steps/s\n",
      "2020-04-13 11:07:47,496 - INFO:__main__: steps:  122112, average reward:\t-0.70\n",
      "2020-04-13 11:07:48,844 - INFO:__main__: steps:  125152, average reward:\t-0.60\n",
      "2020-04-13 11:07:50,068 - INFO:__main__: steps:  127952, average reward:\t-0.64\n",
      "2020-04-13 11:07:50,958 - INFO:__main__: steps:  130000, performance:\t2274.60 steps/s\n",
      "2020-04-13 11:07:51,333 - INFO:__main__: steps:  130848, average reward:\t-0.68\n",
      "2020-04-13 11:07:52,653 - INFO:__main__: steps:  133776, average reward:\t-0.54\n",
      "2020-04-13 11:07:53,916 - INFO:__main__: steps:  136656, average reward:\t-0.60\n",
      "2020-04-13 11:07:55,113 - INFO:__main__: steps:  139408, average reward:\t-0.68\n",
      "2020-04-13 11:07:55,370 - INFO:__main__: steps:  140000, performance:\t2267.23 steps/s\n",
      "2020-04-13 11:07:56,453 - INFO:__main__: steps:  142480, average reward:\t-0.36\n",
      "2020-04-13 11:07:57,765 - INFO:__main__: steps:  145456, average reward:\t-0.58\n",
      "2020-04-13 11:07:59,073 - INFO:__main__: steps:  148446, average reward:\t-0.60\n",
      "2020-04-13 11:07:59,748 - INFO:__main__: steps:  150000, performance:\t2284.20 steps/s\n",
      "2020-04-13 11:08:00,324 - INFO:__main__: steps:  151296, average reward:\t-0.44\n",
      "2020-04-13 11:08:01,599 - INFO:__main__: steps:  154224, average reward:\t-0.68\n",
      "2020-04-13 11:08:02,898 - INFO:__main__: steps:  157184, average reward:\t-0.68\n",
      "2020-04-13 11:08:04,112 - INFO:__main__: steps:  160000, performance:\t2292.16 steps/s\n",
      "2020-04-13 11:08:04,203 - INFO:__main__: steps:  160191, average reward:\t-0.64\n",
      "2020-04-13 11:08:05,483 - INFO:__main__: steps:  163040, average reward:\t-0.66\n",
      "2020-04-13 11:08:06,741 - INFO:__main__: steps:  165888, average reward:\t-0.52\n",
      "2020-04-13 11:08:08,005 - INFO:__main__: steps:  168784, average reward:\t-0.70\n",
      "2020-04-13 11:08:08,531 - INFO:__main__: steps:  170000, performance:\t2262.94 steps/s\n",
      "2020-04-13 11:08:09,242 - INFO:__main__: steps:  171616, average reward:\t-0.72\n",
      "2020-04-13 11:08:10,474 - INFO:__main__: steps:  174432, average reward:\t-0.64\n",
      "2020-04-13 11:08:11,775 - INFO:__main__: steps:  177407, average reward:\t-0.60\n",
      "2020-04-13 11:08:12,903 - INFO:__main__: steps:  180000, performance:\t2287.88 steps/s\n",
      "2020-04-13 11:08:13,075 - INFO:__main__: steps:  180384, average reward:\t-0.66\n",
      "2020-04-13 11:08:14,304 - INFO:__main__: steps:  183184, average reward:\t-0.62\n",
      "2020-04-13 11:08:15,639 - INFO:__main__: steps:  186144, average reward:\t-0.66\n",
      "2020-04-13 11:08:16,946 - INFO:__main__: steps:  189168, average reward:\t-0.58\n",
      "2020-04-13 11:08:17,308 - INFO:__main__: steps:  190000, performance:\t2270.44 steps/s\n",
      "2020-04-13 11:08:18,277 - INFO:__main__: steps:  192192, average reward:\t-0.58\n",
      "2020-04-13 11:08:19,569 - INFO:__main__: steps:  195056, average reward:\t-0.60\n",
      "2020-04-13 11:08:20,873 - INFO:__main__: steps:  198016, average reward:\t-0.60\n",
      "2020-04-13 11:08:21,732 - INFO:__main__: steps:  200000, performance:\t2260.76 steps/s\n",
      "2020-04-13 11:08:22,149 - INFO:__main__: steps:  200959, average reward:\t-0.62\n",
      "2020-04-13 11:08:23,424 - INFO:__main__: steps:  203856, average reward:\t-0.60\n",
      "2020-04-13 11:08:24,653 - INFO:__main__: steps:  206688, average reward:\t-0.58\n",
      "2020-04-13 11:08:25,983 - INFO:__main__: steps:  209664, average reward:\t-0.60\n",
      "2020-04-13 11:08:26,131 - INFO:__main__: steps:  210000, performance:\t2273.66 steps/s\n",
      "2020-04-13 11:08:27,168 - INFO:__main__: steps:  212304, average reward:\t-0.66\n",
      "2020-04-13 11:08:28,457 - INFO:__main__: steps:  215248, average reward:\t-0.66\n",
      "2020-04-13 11:08:29,817 - INFO:__main__: steps:  218288, average reward:\t-0.64\n",
      "2020-04-13 11:08:30,560 - INFO:__main__: steps:  220000, performance:\t2257.97 steps/s\n",
      "2020-04-13 11:08:31,145 - INFO:__main__: steps:  221312, average reward:\t-0.50\n",
      "2020-04-13 11:08:32,441 - INFO:__main__: steps:  224175, average reward:\t-0.62\n",
      "2020-04-13 11:08:33,733 - INFO:__main__: steps:  227088, average reward:\t-0.76\n",
      "2020-04-13 11:08:34,961 - INFO:__main__: steps:  229903, average reward:\t-0.70\n",
      "2020-04-13 11:08:35,005 - INFO:__main__: steps:  230000, performance:\t2250.06 steps/s\n"
     ]
    },
    {
     "name": "stderr",
     "output_type": "stream",
     "text": [
      "2020-04-13 11:08:36,250 - INFO:__main__: steps:  232720, average reward:\t-0.84\n",
      "2020-04-13 11:08:37,602 - INFO:__main__: steps:  235680, average reward:\t-0.54\n",
      "2020-04-13 11:08:38,905 - INFO:__main__: steps:  238576, average reward:\t-0.52\n",
      "2020-04-13 11:08:39,526 - INFO:__main__: steps:  240000, performance:\t2212.44 steps/s\n",
      "2020-04-13 11:08:40,265 - INFO:__main__: steps:  241536, average reward:\t-0.62\n",
      "2020-04-13 11:08:41,628 - INFO:__main__: steps:  244383, average reward:\t-0.60\n",
      "2020-04-13 11:08:43,031 - INFO:__main__: steps:  247391, average reward:\t-0.72\n",
      "2020-04-13 11:08:44,204 - INFO:__main__: steps:  250000, performance:\t2137.83 steps/s\n",
      "2020-04-13 11:08:44,303 - INFO:__main__: steps:  250207, average reward:\t-0.66\n",
      "2020-04-13 11:08:45,646 - INFO:__main__: steps:  253088, average reward:\t-0.62\n",
      "2020-04-13 11:08:46,917 - INFO:__main__: steps:  256000, average reward:\t-0.72\n",
      "2020-04-13 11:08:48,265 - INFO:__main__: steps:  258896, average reward:\t-0.76\n",
      "2020-04-13 11:08:48,761 - INFO:__main__: steps:  260000, performance:\t2194.96 steps/s\n",
      "2020-04-13 11:08:49,575 - INFO:__main__: steps:  261808, average reward:\t-0.54\n",
      "2020-04-13 11:08:50,909 - INFO:__main__: steps:  264720, average reward:\t-0.60\n",
      "2020-04-13 11:08:52,247 - INFO:__main__: steps:  267600, average reward:\t-0.74\n",
      "2020-04-13 11:08:53,387 - INFO:__main__: steps:  270000, performance:\t2161.75 steps/s\n",
      "2020-04-13 11:08:53,652 - INFO:__main__: steps:  270576, average reward:\t-0.56\n",
      "2020-04-13 11:08:54,917 - INFO:__main__: steps:  273328, average reward:\t-0.66\n",
      "2020-04-13 11:08:56,325 - INFO:__main__: steps:  276256, average reward:\t-0.60\n",
      "2020-04-13 11:08:57,661 - INFO:__main__: steps:  279071, average reward:\t-0.56\n",
      "2020-04-13 11:08:58,082 - INFO:__main__: steps:  280000, performance:\t2130.03 steps/s\n",
      "2020-04-13 11:08:58,932 - INFO:__main__: steps:  281872, average reward:\t-0.70\n",
      "2020-04-13 11:09:00,244 - INFO:__main__: steps:  284815, average reward:\t-0.58\n",
      "2020-04-13 11:09:01,547 - INFO:__main__: steps:  287743, average reward:\t-0.56\n",
      "2020-04-13 11:09:02,550 - INFO:__main__: steps:  290000, performance:\t2238.65 steps/s\n",
      "2020-04-13 11:09:02,858 - INFO:__main__: steps:  290704, average reward:\t-0.66\n",
      "2020-04-13 11:09:04,192 - INFO:__main__: steps:  293648, average reward:\t-0.72\n",
      "2020-04-13 11:09:05,472 - INFO:__main__: steps:  296512, average reward:\t-0.74\n",
      "2020-04-13 11:09:06,753 - INFO:__main__: steps:  299408, average reward:\t-0.58\n",
      "2020-04-13 11:09:07,027 - INFO:__main__: steps:  300000, performance:\t2233.84 steps/s\n"
     ]
    }
   ],
   "source": [
    "import amarl\n",
    "import gym\n",
    "from amarl.trainers import A2CTrainer\n",
    "from amarl.wrappers import MultipleEnvs, active_gym, OriginalReturnWrapper, SignReward,  TorchObservation, StackFrames\n",
    "\n",
    "def make_env():\n",
    "    e = gym.make('CubeCrash-v0')\n",
    "    e = OriginalReturnWrapper(e)\n",
    "    e = SignReward(e)\n",
    "    e = TorchObservation(e)\n",
    "#     e = StackFrames(e, size=4)\n",
    "    return e\n",
    "\n",
    "env = MultipleEnvs(make_env, num_envs=16)\n",
    "with active_gym(env) as env, training_monitor(logger, performance_sample_size=10000) as monitor:\n",
    "    com = A2CTrainer(env, config={'rollout_horizon': 5, 'device': 'cuda'})\n",
    "    try:\n",
    "        amarl.run(com, num_steps=int(1e5))\n",
    "    finally:\n",
    "        pass"
   ]
  },
  {
   "cell_type": "markdown",
   "metadata": {
    "pycharm": {
     "name": "#%% md\n"
    }
   },
   "source": [
    "### Plot Results\n",
    "It is easier to understand how the agent is performing by plotting the metrics of the training. Sum bugs can be subtle,\n",
    "for instance it was not that obvious that the frame stack ordering was wrong, because the agent still learned a good\n",
    "policy and performed reasonably well. Because of such subtle bugs the algorithm can become more sensitive to certain\n",
    "hyper-parameters (i.e. gradient clipping), resulting in a misleading perception of importance of these parameters. Be\n",
    "careful!"
   ]
  },
  {
   "cell_type": "code",
   "execution_count": 7,
   "metadata": {
    "pycharm": {
     "name": "#%%\n"
    }
   },
   "outputs": [
    {
     "data": {
      "image/png": "[encoded data removed]",
      "text/plain": [
       "<Figure size 432x288 with 1 Axes>"
      ]
     },
     "metadata": {
      "needs_background": "light"
     },
     "output_type": "display_data"
    }
   ],
   "source": [
    "import matplotlib.pyplot as plt\n",
    "import numpy as np\n",
    "\n",
    "def moving_average(a, n=3):\n",
    "    ret = np.cumsum(np.insert(a, 0, 0))\n",
    "    return (ret[n:] - ret[:-n]) / n\n",
    "\n",
    "scores = monitor.captured_returns\n",
    "avg_window = 100\n",
    "scores_avg = moving_average(scores, avg_window)\n",
    "fig, ax = plt.subplots()\n",
    "ax.plot(range(len(scores)), scores)\n",
    "start = avg_window // 2\n",
    "ax.plot(range(start, start + len(scores_avg)), scores_avg)\n",
    "plt.ylabel('Score')\n",
    "plt.xlabel('Episode #')\n",
    "plt.show()\n"
   ]
  },
  {
   "cell_type": "markdown",
   "metadata": {
    "pycharm": {
     "name": "#%% md\n"
    }
   },
   "source": [
    "## A2C LSTM Agent\n",
    "In this section I train and analyse an A2C agent making use of a LSTM cell to keep track of motion. The important bit \n",
    "here is that it solve environments without needing a stack of frames to figure out motion, but actually learn it on a \n",
    "frame by frame basis. This section makes sure it works on simple environments, before moving on to the more challenging\n",
    "partially observable environments needed in multi agent setups that require inter agent communication."
   ]
  },
  {
   "cell_type": "markdown",
   "metadata": {
    "pycharm": {
     "name": "#%% md\n"
    }
   },
   "source": [
    "### Train the Agent"
   ]
  },
  {
   "cell_type": "code",
   "execution_count": 7,
   "metadata": {
    "pycharm": {
     "name": "#%%\n"
    }
   },
   "outputs": [
    {
     "name": "stderr",
     "output_type": "stream",
     "text": [
      "/home/bernhard/miniconda3/envs/AMARL/lib/python3.6/site-packages/gym/envs/registration.py:14: PkgResourcesDeprecationWarning: Parameters to load are deprecated.  Call .resolve and .require separately.\n",
      "  result = entry_point.load(False)\n"
     ]
    },
    {
     "name": "stdout",
     "output_type": "stream",
     "text": [
      "\u001B[33mWARN: gym.spaces.Box autodetected dtype as <class 'numpy.float32'>. Please provide explicit dtype.\u001B[0m\n",
      "\u001B[33mWARN: gym.spaces.Box autodetected dtype as <class 'numpy.float32'>. Please provide explicit dtype.\u001B[0m\n",
      "\u001B[33mWARN: gym.spaces.Box autodetected dtype as <class 'numpy.float32'>. Please provide explicit dtype.\u001B[0m\n",
      "\u001B[33mWARN: gym.spaces.Box autodetected dtype as <class 'numpy.float32'>. Please provide explicit dtype.\u001B[0m\n",
      "\u001B[33mWARN: gym.spaces.Box autodetected dtype as <class 'numpy.float32'>. Please provide explicit dtype.\u001B[0m\n",
      "\u001B[33mWARN: gym.spaces.Box autodetected dtype as <class 'numpy.float32'>. Please provide explicit dtype.\u001B[0m\n",
      "\u001B[33mWARN: gym.spaces.Box autodetected dtype as <class 'numpy.float32'>. Please provide explicit dtype.\u001B[0m\n",
      "\u001B[33mWARN: gym.spaces.Box autodetected dtype as <class 'numpy.float32'>. Please provide explicit dtype.\u001B[0m\n",
      "\u001B[33mWARN: gym.spaces.Box autodetected dtype as <class 'numpy.float32'>. Please provide explicit dtype.\u001B[0m\n",
      "\u001B[33mWARN: gym.spaces.Box autodetected dtype as <class 'numpy.float32'>. Please provide explicit dtype.\u001B[0m\n",
      "\u001B[33mWARN: gym.spaces.Box autodetected dtype as <class 'numpy.float32'>. Please provide explicit dtype.\u001B[0m\n",
      "\u001B[33mWARN: gym.spaces.Box autodetected dtype as <class 'numpy.float32'>. Please provide explicit dtype.\u001B[0m\n",
      "\u001B[33mWARN: gym.spaces.Box autodetected dtype as <class 'numpy.float32'>. Please provide explicit dtype.\u001B[0m\n",
      "\u001B[33mWARN: gym.spaces.Box autodetected dtype as <class 'numpy.float32'>. Please provide explicit dtype.\u001B[0m\n",
      "\u001B[33mWARN: gym.spaces.Box autodetected dtype as <class 'numpy.float32'>. Please provide explicit dtype.\u001B[0m\n",
      "\u001B[33mWARN: gym.spaces.Box autodetected dtype as <class 'numpy.float32'>. Please provide explicit dtype.\u001B[0m\n"
     ]
    },
    {
     "name": "stderr",
     "output_type": "stream",
     "text": [
      "2020-04-13 10:54:26,664 - INFO:__main__: steps:    3072, average reward:\t-0.76\n",
      "2020-04-13 10:54:29,830 - INFO:__main__: steps:    5888, average reward:\t-0.64\n",
      "2020-04-13 10:54:32,922 - INFO:__main__: steps:    8640, average reward:\t-0.72\n",
      "2020-04-13 10:54:34,480 - INFO:__main__: steps:   10000, performance:\t883.39 steps/s\n",
      "2020-04-13 10:54:36,263 - INFO:__main__: steps:   11568, average reward:\t-0.66\n",
      "2020-04-13 10:54:39,484 - INFO:__main__: steps:   14416, average reward:\t-0.72\n",
      "2020-04-13 10:54:42,915 - INFO:__main__: steps:   17296, average reward:\t-0.70\n",
      "2020-04-13 10:54:45,996 - INFO:__main__: steps:   20000, performance:\t868.37 steps/s\n",
      "2020-04-13 10:54:46,168 - INFO:__main__: steps:   20144, average reward:\t-0.58\n",
      "2020-04-13 10:54:49,452 - INFO:__main__: steps:   22928, average reward:\t-0.62\n",
      "2020-04-13 10:54:52,684 - INFO:__main__: steps:   25760, average reward:\t-0.64\n",
      "2020-04-13 10:54:55,897 - INFO:__main__: steps:   28624, average reward:\t-0.56\n",
      "2020-04-13 10:54:57,508 - INFO:__main__: steps:   30000, performance:\t868.74 steps/s\n",
      "2020-04-13 10:54:59,329 - INFO:__main__: steps:   31584, average reward:\t-0.64\n",
      "2020-04-13 10:55:02,453 - INFO:__main__: steps:   34368, average reward:\t-0.68\n",
      "2020-04-13 10:55:05,812 - INFO:__main__: steps:   37391, average reward:\t-0.54\n",
      "2020-04-13 10:55:08,681 - INFO:__main__: steps:   40000, performance:\t895.11 steps/s\n",
      "2020-04-13 10:55:08,861 - INFO:__main__: steps:   40158, average reward:\t-0.74\n",
      "2020-04-13 10:55:12,169 - INFO:__main__: steps:   43088, average reward:\t-0.68\n",
      "2020-04-13 10:55:15,357 - INFO:__main__: steps:   45920, average reward:\t-0.62\n",
      "2020-04-13 10:55:18,650 - INFO:__main__: steps:   48816, average reward:\t-0.60\n",
      "2020-04-13 10:55:19,943 - INFO:__main__: steps:   50000, performance:\t887.99 steps/s\n",
      "2020-04-13 10:55:21,916 - INFO:__main__: steps:   51728, average reward:\t-0.74\n",
      "2020-04-13 10:55:25,046 - INFO:__main__: steps:   54544, average reward:\t-0.62\n",
      "2020-04-13 10:55:28,369 - INFO:__main__: steps:   57504, average reward:\t-0.50\n",
      "2020-04-13 10:55:31,156 - INFO:__main__: steps:   60000, performance:\t891.89 steps/s\n",
      "2020-04-13 10:55:31,671 - INFO:__main__: steps:   60432, average reward:\t-0.62\n",
      "2020-04-13 10:55:34,813 - INFO:__main__: steps:   63232, average reward:\t-0.74\n",
      "2020-04-13 10:55:37,969 - INFO:__main__: steps:   66048, average reward:\t-0.76\n",
      "2020-04-13 10:55:41,221 - INFO:__main__: steps:   68944, average reward:\t-0.72\n",
      "2020-04-13 10:55:42,393 - INFO:__main__: steps:   70000, performance:\t889.98 steps/s\n",
      "2020-04-13 10:55:44,264 - INFO:__main__: steps:   71632, average reward:\t-0.76\n",
      "2020-04-13 10:55:47,419 - INFO:__main__: steps:   74464, average reward:\t-0.66\n",
      "2020-04-13 10:55:50,634 - INFO:__main__: steps:   77312, average reward:\t-0.72\n",
      "2020-04-13 10:55:53,634 - INFO:__main__: steps:   80000, performance:\t889.58 steps/s\n",
      "2020-04-13 10:55:53,977 - INFO:__main__: steps:   80286, average reward:\t-0.70\n",
      "2020-04-13 10:55:57,102 - INFO:__main__: steps:   83103, average reward:\t-0.60\n",
      "2020-04-13 10:56:00,240 - INFO:__main__: steps:   85904, average reward:\t-0.62\n",
      "2020-04-13 10:56:03,526 - INFO:__main__: steps:   88831, average reward:\t-0.60\n",
      "2020-04-13 10:56:04,824 - INFO:__main__: steps:   90000, performance:\t893.69 steps/s\n",
      "2020-04-13 10:56:06,797 - INFO:__main__: steps:   91728, average reward:\t-0.64\n",
      "2020-04-13 10:56:10,029 - INFO:__main__: steps:   94640, average reward:\t-0.52\n",
      "2020-04-13 10:56:13,355 - INFO:__main__: steps:   97599, average reward:\t-0.60\n",
      "2020-04-13 10:56:16,024 - INFO:__main__: steps:  100000, performance:\t892.97 steps/s\n",
      "2020-04-13 10:56:16,638 - INFO:__main__: steps:  100528, average reward:\t-0.56\n",
      "2020-04-13 10:56:19,939 - INFO:__main__: steps:  103456, average reward:\t-0.70\n",
      "2020-04-13 10:56:23,193 - INFO:__main__: steps:  106352, average reward:\t-0.64\n",
      "2020-04-13 10:56:26,318 - INFO:__main__: steps:  109168, average reward:\t-0.66\n",
      "2020-04-13 10:56:27,232 - INFO:__main__: steps:  110000, performance:\t892.24 steps/s\n",
      "2020-04-13 10:56:29,598 - INFO:__main__: steps:  112112, average reward:\t-0.54\n",
      "2020-04-13 10:56:32,739 - INFO:__main__: steps:  114928, average reward:\t-0.62\n",
      "2020-04-13 10:56:35,982 - INFO:__main__: steps:  117823, average reward:\t-0.62\n",
      "2020-04-13 10:56:38,425 - INFO:__main__: steps:  120000, performance:\t893.49 steps/s\n",
      "2020-04-13 10:56:39,221 - INFO:__main__: steps:  120686, average reward:\t-0.70\n",
      "2020-04-13 10:56:42,444 - INFO:__main__: steps:  123583, average reward:\t-0.68\n",
      "2020-04-13 10:56:45,510 - INFO:__main__: steps:  126320, average reward:\t-0.82\n",
      "2020-04-13 10:56:48,629 - INFO:__main__: steps:  129072, average reward:\t-0.78\n",
      "2020-04-13 10:56:49,652 - INFO:__main__: steps:  130000, performance:\t890.76 steps/s\n",
      "2020-04-13 10:56:51,948 - INFO:__main__: steps:  132016, average reward:\t-0.60\n",
      "2020-04-13 10:56:55,139 - INFO:__main__: steps:  134880, average reward:\t-0.76\n",
      "2020-04-13 10:56:58,356 - INFO:__main__: steps:  137744, average reward:\t-0.58\n",
      "2020-04-13 10:57:00,877 - INFO:__main__: steps:  140000, performance:\t890.94 steps/s\n",
      "2020-04-13 10:57:01,647 - INFO:__main__: steps:  140656, average reward:\t-0.78\n",
      "2020-04-13 10:57:04,789 - INFO:__main__: steps:  143456, average reward:\t-0.66\n",
      "2020-04-13 10:57:08,007 - INFO:__main__: steps:  146336, average reward:\t-0.72\n",
      "2020-04-13 10:57:11,163 - INFO:__main__: steps:  149168, average reward:\t-0.58\n",
      "2020-04-13 10:57:12,085 - INFO:__main__: steps:  150000, performance:\t892.29 steps/s\n",
      "2020-04-13 10:57:14,391 - INFO:__main__: steps:  152064, average reward:\t-0.70\n",
      "2020-04-13 10:57:17,616 - INFO:__main__: steps:  154928, average reward:\t-0.66\n",
      "2020-04-13 10:57:20,747 - INFO:__main__: steps:  157727, average reward:\t-0.64\n",
      "2020-04-13 10:57:23,276 - INFO:__main__: steps:  160000, performance:\t893.60 steps/s\n",
      "2020-04-13 10:57:23,997 - INFO:__main__: steps:  160640, average reward:\t-0.64\n",
      "2020-04-13 10:57:27,144 - INFO:__main__: steps:  163424, average reward:\t-0.54\n",
      "2020-04-13 10:57:30,383 - INFO:__main__: steps:  166304, average reward:\t-0.66\n",
      "2020-04-13 10:57:33,554 - INFO:__main__: steps:  169135, average reward:\t-0.62\n",
      "2020-04-13 10:57:34,482 - INFO:__main__: steps:  170000, performance:\t892.45 steps/s\n",
      "2020-04-13 10:57:36,679 - INFO:__main__: steps:  171951, average reward:\t-0.74\n",
      "2020-04-13 10:57:39,638 - INFO:__main__: steps:  174624, average reward:\t-0.70\n",
      "2020-04-13 10:57:43,020 - INFO:__main__: steps:  177615, average reward:\t-0.72\n",
      "2020-04-13 10:57:45,678 - INFO:__main__: steps:  180000, performance:\t893.27 steps/s\n",
      "2020-04-13 10:57:46,092 - INFO:__main__: steps:  180336, average reward:\t-0.78\n",
      "2020-04-13 10:57:49,247 - INFO:__main__: steps:  183184, average reward:\t-0.64\n",
      "2020-04-13 10:57:52,385 - INFO:__main__: steps:  185968, average reward:\t-0.64\n",
      "2020-04-13 10:57:55,681 - INFO:__main__: steps:  188912, average reward:\t-0.72\n",
      "2020-04-13 10:57:56,875 - INFO:__main__: steps:  190000, performance:\t893.11 steps/s\n",
      "2020-04-13 10:57:58,743 - INFO:__main__: steps:  191680, average reward:\t-0.76\n",
      "2020-04-13 10:58:01,772 - INFO:__main__: steps:  194368, average reward:\t-0.74\n",
      "2020-04-13 10:58:05,112 - INFO:__main__: steps:  197360, average reward:\t-0.62\n",
      "2020-04-13 10:58:08,050 - INFO:__main__: steps:  200000, performance:\t894.90 steps/s\n",
      "2020-04-13 10:58:08,383 - INFO:__main__: steps:  200272, average reward:\t-0.68\n",
      "2020-04-13 10:58:11,517 - INFO:__main__: steps:  203056, average reward:\t-0.62\n",
      "2020-04-13 10:58:14,745 - INFO:__main__: steps:  205936, average reward:\t-0.70\n",
      "2020-04-13 10:58:17,971 - INFO:__main__: steps:  208816, average reward:\t-0.64\n",
      "2020-04-13 10:58:19,267 - INFO:__main__: steps:  210000, performance:\t891.54 steps/s\n",
      "2020-04-13 10:58:21,128 - INFO:__main__: steps:  211632, average reward:\t-0.62\n",
      "2020-04-13 10:58:24,179 - INFO:__main__: steps:  214384, average reward:\t-0.66\n",
      "2020-04-13 10:58:27,398 - INFO:__main__: steps:  217246, average reward:\t-0.60\n",
      "2020-04-13 10:58:30,453 - INFO:__main__: steps:  220000, performance:\t894.11 steps/s\n",
      "2020-04-13 10:58:30,609 - INFO:__main__: steps:  220112, average reward:\t-0.68\n",
      "2020-04-13 10:58:33,853 - INFO:__main__: steps:  222992, average reward:\t-0.66\n",
      "2020-04-13 10:58:37,119 - INFO:__main__: steps:  225904, average reward:\t-0.62\n",
      "2020-04-13 10:58:40,440 - INFO:__main__: steps:  228864, average reward:\t-0.64\n",
      "2020-04-13 10:58:41,715 - INFO:__main__: steps:  230000, performance:\t887.95 steps/s\n"
     ]
    },
    {
     "name": "stderr",
     "output_type": "stream",
     "text": [
      "2020-04-13 10:58:43,689 - INFO:__main__: steps:  231759, average reward:\t-0.72\n",
      "2020-04-13 10:58:46,868 - INFO:__main__: steps:  234575, average reward:\t-0.78\n",
      "2020-04-13 10:58:50,028 - INFO:__main__: steps:  237391, average reward:\t-0.76\n",
      "2020-04-13 10:58:52,941 - INFO:__main__: steps:  240000, performance:\t890.88 steps/s\n",
      "2020-04-13 10:58:53,277 - INFO:__main__: steps:  240272, average reward:\t-0.70\n",
      "2020-04-13 10:58:56,488 - INFO:__main__: steps:  243136, average reward:\t-0.70\n",
      "2020-04-13 10:58:59,815 - INFO:__main__: steps:  246096, average reward:\t-0.68\n",
      "2020-04-13 10:59:03,049 - INFO:__main__: steps:  249008, average reward:\t-0.72\n",
      "2020-04-13 10:59:04,153 - INFO:__main__: steps:  250000, performance:\t891.92 steps/s\n",
      "2020-04-13 10:59:06,356 - INFO:__main__: steps:  251967, average reward:\t-0.58\n",
      "2020-04-13 10:59:09,396 - INFO:__main__: steps:  254703, average reward:\t-0.60\n",
      "2020-04-13 10:59:12,699 - INFO:__main__: steps:  257664, average reward:\t-0.56\n",
      "2020-04-13 10:59:15,309 - INFO:__main__: steps:  260000, performance:\t896.42 steps/s\n",
      "2020-04-13 10:59:16,012 - INFO:__main__: steps:  260608, average reward:\t-0.64\n",
      "2020-04-13 10:59:19,158 - INFO:__main__: steps:  263424, average reward:\t-0.60\n",
      "2020-04-13 10:59:22,288 - INFO:__main__: steps:  266208, average reward:\t-0.82\n",
      "2020-04-13 10:59:25,536 - INFO:__main__: steps:  269104, average reward:\t-0.52\n",
      "2020-04-13 10:59:26,542 - INFO:__main__: steps:  270000, performance:\t890.30 steps/s\n",
      "2020-04-13 10:59:28,590 - INFO:__main__: steps:  271792, average reward:\t-0.76\n",
      "2020-04-13 10:59:31,670 - INFO:__main__: steps:  274560, average reward:\t-0.70\n",
      "2020-04-13 10:59:34,959 - INFO:__main__: steps:  277472, average reward:\t-0.60\n",
      "2020-04-13 10:59:37,770 - INFO:__main__: steps:  280000, performance:\t890.65 steps/s\n",
      "2020-04-13 10:59:38,128 - INFO:__main__: steps:  280319, average reward:\t-0.90\n",
      "2020-04-13 10:59:41,241 - INFO:__main__: steps:  283120, average reward:\t-0.72\n",
      "2020-04-13 10:59:44,502 - INFO:__main__: steps:  286032, average reward:\t-0.76\n",
      "2020-04-13 10:59:47,666 - INFO:__main__: steps:  288848, average reward:\t-0.72\n",
      "2020-04-13 10:59:48,944 - INFO:__main__: steps:  290000, performance:\t894.97 steps/s\n",
      "2020-04-13 10:59:50,734 - INFO:__main__: steps:  291584, average reward:\t-0.74\n",
      "2020-04-13 10:59:54,078 - INFO:__main__: steps:  294560, average reward:\t-0.60\n",
      "2020-04-13 10:59:57,432 - INFO:__main__: steps:  297520, average reward:\t-0.66\n",
      "2020-04-13 11:00:00,211 - INFO:__main__: steps:  300000, performance:\t887.61 steps/s\n"
     ]
    }
   ],
   "source": [
    "import amarl\n",
    "import gym\n",
    "from amarl.trainers import A2CLSTMTrainer\n",
    "from amarl.wrappers import MultipleEnvs, active_gym, OriginalReturnWrapper, SignReward,  TorchObservation, StackFrames\n",
    "\n",
    "def make_env():\n",
    "    e = gym.make('CubeCrashSparse-v0')\n",
    "    e = OriginalReturnWrapper(e)\n",
    "    e = SignReward(e)\n",
    "    e = TorchObservation(e)\n",
    "    return e\n",
    "\n",
    "env = MultipleEnvs(make_env, num_envs=16)\n",
    "with active_gym(env) as env, training_monitor(logger, performance_sample_size=10000) as monitor:\n",
    "    com = A2CLSTMTrainer(env, config={'rollout_horizon': 5, 'device': 'cuda', \n",
    "                                      'optimizer': {'RMSprop': {'lr':5e-4, 'alpha': 0.99, 'eps': 1e-5}}})\n",
    "    try:\n",
    "        amarl.run(com, num_steps=int(3e5))\n",
    "    finally:\n",
    "        pass"
   ]
  },
  {
   "cell_type": "markdown",
   "metadata": {
    "pycharm": {
     "name": "#%% md\n"
    }
   },
   "source": [
    "### Plot Results"
   ]
  },
  {
   "cell_type": "code",
   "execution_count": 9,
   "metadata": {
    "pycharm": {
     "name": "#%%\n"
    }
   },
   "outputs": [
    {
     "data": {
      "image/png": "[encoded data removed]",
      "text/plain": [
       "<Figure size 432x288 with 1 Axes>"
      ]
     },
     "metadata": {
      "needs_background": "light"
     },
     "output_type": "display_data"
    }
   ],
   "source": [
    "import matplotlib.pyplot as plt\n",
    "import numpy as np\n",
    "\n",
    "def moving_average(a, n=3):\n",
    "    ret = np.cumsum(np.insert(a, 0, 0))\n",
    "    return (ret[n:] - ret[:-n]) / n\n",
    "\n",
    "scores = monitor.captured_returns\n",
    "avg_window = 100\n",
    "scores_avg = moving_average(scores, avg_window)\n",
    "fig, ax = plt.subplots()\n",
    "ax.plot(range(len(scores)), scores)\n",
    "start = avg_window // 2\n",
    "ax.plot(range(start, start + len(scores_avg)), scores_avg)\n",
    "plt.ylabel('Score')\n",
    "plt.xlabel('Episode #')\n",
    "plt.show()"
   ]
  },
  {
   "cell_type": "code",
   "execution_count": null,
   "metadata": {},
   "outputs": [],
   "source": []
  }
 ],
 "metadata": {
  "kernelspec": {
   "display_name": "Python 3",
   "language": "python",
   "name": "python3"
  },
  "language_info": {
   "codemirror_mode": {
    "name": "ipython",
    "version": 3
   },
   "file_extension": ".py",
   "mimetype": "text/x-python",
   "name": "python",
   "nbconvert_exporter": "python",
   "pygments_lexer": "ipython3",
   "version": "3.6.7"
  }
 },
 "nbformat": 4,
 "nbformat_minor": 1
}