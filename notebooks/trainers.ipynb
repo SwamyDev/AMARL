{
 "cells": [
  {
   "cell_type": "markdown",
   "metadata": {
    "pycharm": {
     "name": "#%% md\n"
    }
   },
   "source": [
    "# Trainers\n",
    "\n",
    "In this notebook I test trainer implementations on various environments."
   ]
  },
  {
   "cell_type": "markdown",
   "metadata": {
    "pycharm": {
     "name": "#%% md\n"
    }
   },
   "source": [
    "## Monitoring setup\n",
    "This sets up the logging system to be able to monitor the training progress of the agent"
   ]
  },
  {
   "cell_type": "code",
   "execution_count": 1,
   "metadata": {
    "pycharm": {
     "is_executing": false,
     "name": "#%%\n"
    }
   },
   "outputs": [
    {
     "name": "stderr",
     "output_type": "stream",
     "text": [
      "/home/bernhard/miniconda3/envs/AMARL/lib/python3.6/site-packages/tensorflow/python/framework/dtypes.py:523: FutureWarning: Passing (type, 1) or '1type' as a synonym of type is deprecated; in a future version of numpy, it will be understood as (type, (1,)) / '(1,)type'.\n",
      "  _np_qint8 = np.dtype([(\"qint8\", np.int8, 1)])\n",
      "/home/bernhard/miniconda3/envs/AMARL/lib/python3.6/site-packages/tensorflow/python/framework/dtypes.py:524: FutureWarning: Passing (type, 1) or '1type' as a synonym of type is deprecated; in a future version of numpy, it will be understood as (type, (1,)) / '(1,)type'.\n",
      "  _np_quint8 = np.dtype([(\"quint8\", np.uint8, 1)])\n",
      "/home/bernhard/miniconda3/envs/AMARL/lib/python3.6/site-packages/tensorflow/python/framework/dtypes.py:525: FutureWarning: Passing (type, 1) or '1type' as a synonym of type is deprecated; in a future version of numpy, it will be understood as (type, (1,)) / '(1,)type'.\n",
      "  _np_qint16 = np.dtype([(\"qint16\", np.int16, 1)])\n",
      "/home/bernhard/miniconda3/envs/AMARL/lib/python3.6/site-packages/tensorflow/python/framework/dtypes.py:526: FutureWarning: Passing (type, 1) or '1type' as a synonym of type is deprecated; in a future version of numpy, it will be understood as (type, (1,)) / '(1,)type'.\n",
      "  _np_quint16 = np.dtype([(\"quint16\", np.uint16, 1)])\n",
      "/home/bernhard/miniconda3/envs/AMARL/lib/python3.6/site-packages/tensorflow/python/framework/dtypes.py:527: FutureWarning: Passing (type, 1) or '1type' as a synonym of type is deprecated; in a future version of numpy, it will be understood as (type, (1,)) / '(1,)type'.\n",
      "  _np_qint32 = np.dtype([(\"qint32\", np.int32, 1)])\n",
      "/home/bernhard/miniconda3/envs/AMARL/lib/python3.6/site-packages/tensorflow/python/framework/dtypes.py:532: FutureWarning: Passing (type, 1) or '1type' as a synonym of type is deprecated; in a future version of numpy, it will be understood as (type, (1,)) / '(1,)type'.\n",
      "  np_resource = np.dtype([(\"resource\", np.ubyte, 1)])\n",
      "2020-04-11 11:17:46,500 - __main__ - INFO: test\n"
     ]
    }
   ],
   "source": [
    "import logging\n",
    "from amarl.messenger import training_monitor\n",
    "\n",
    "logging.basicConfig(level=logging.INFO,\n",
    "                    format='%(asctime)s - %(levelname)s:%(name)s: %(message)s')\n",
    "logging.root.setLevel(logging.INFO)\n",
    "\n",
    "logger = logging.getLogger(__name__)\n",
    "\n",
    "logger.info(\"test\")"
   ]
  },
  {
   "cell_type": "markdown",
   "metadata": {
    "pycharm": {
     "name": "#%% md\n"
    }
   },
   "source": [
    "## Train the Agent\n",
    "In the part I actually train the agent on one of the testing environments. It is a good idea to look at the gym unit\n",
    "testing environment first and try to solve that. If this doesn't work, there is something wrong either with the\n",
    "algorithm or the setup. Also make sure to sanity check input signal. Here the problem was that the input image was\n",
    "actually completely mangled by the torch vision pipeline because I used it wrong initally."
   ]
  },
  {
   "cell_type": "code",
   "execution_count": 7,
   "metadata": {
    "pycharm": {
     "name": "#%%\n"
    }
   },
   "outputs": [
    {
     "name": "stderr",
     "output_type": "stream",
     "text": [
      "/home/bernhard/miniconda3/envs/AMARL/lib/python3.6/site-packages/gym/envs/registration.py:14: PkgResourcesDeprecationWarning: Parameters to load are deprecated.  Call .resolve and .require separately.\n",
      "  result = entry_point.load(False)\n"
     ]
    },
    {
     "name": "stdout",
     "output_type": "stream",
     "text": [
      "\u001b[33mWARN: gym.spaces.Box autodetected dtype as <class 'numpy.float32'>. Please provide explicit dtype.\u001b[0m\n",
      "\u001b[33mWARN: gym.spaces.Box autodetected dtype as <class 'numpy.float32'>. Please provide explicit dtype.\u001b[0m\n",
      "\u001b[33mWARN: gym.spaces.Box autodetected dtype as <class 'numpy.float32'>. Please provide explicit dtype.\u001b[0m\n",
      "\u001b[33mWARN: gym.spaces.Box autodetected dtype as <class 'numpy.float32'>. Please provide explicit dtype.\u001b[0m\n",
      "\u001b[33mWARN: gym.spaces.Box autodetected dtype as <class 'numpy.float32'>. Please provide explicit dtype.\u001b[0m\n",
      "\u001b[33mWARN: gym.spaces.Box autodetected dtype as <class 'numpy.float32'>. Please provide explicit dtype.\u001b[0m\n",
      "\u001b[33mWARN: gym.spaces.Box autodetected dtype as <class 'numpy.float32'>. Please provide explicit dtype.\u001b[0m\n",
      "\u001b[33mWARN: gym.spaces.Box autodetected dtype as <class 'numpy.float32'>. Please provide explicit dtype.\u001b[0m\n",
      "\u001b[33mWARN: gym.spaces.Box autodetected dtype as <class 'numpy.float32'>. Please provide explicit dtype.\u001b[0m\n",
      "\u001b[33mWARN: gym.spaces.Box autodetected dtype as <class 'numpy.float32'>. Please provide explicit dtype.\u001b[0m\n",
      "\u001b[33mWARN: gym.spaces.Box autodetected dtype as <class 'numpy.float32'>. Please provide explicit dtype.\u001b[0m\n",
      "\u001b[33mWARN: gym.spaces.Box autodetected dtype as <class 'numpy.float32'>. Please provide explicit dtype.\u001b[0m\n",
      "\u001b[33mWARN: gym.spaces.Box autodetected dtype as <class 'numpy.float32'>. Please provide explicit dtype.\u001b[0m\n",
      "\u001b[33mWARN: gym.spaces.Box autodetected dtype as <class 'numpy.float32'>. Please provide explicit dtype.\u001b[0m\n",
      "\u001b[33mWARN: gym.spaces.Box autodetected dtype as <class 'numpy.float32'>. Please provide explicit dtype.\u001b[0m\n",
      "\u001b[33mWARN: gym.spaces.Box autodetected dtype as <class 'numpy.float32'>. Please provide explicit dtype.\u001b[0m\n"
     ]
    },
    {
     "name": "stderr",
     "output_type": "stream",
     "text": [
      "INFO:__main__:steps:    3055, average reward:\t-0.48\n",
      "INFO:__main__:steps:    6256, average reward:\t-0.19\n",
      "INFO:__main__:steps:    9696, average reward:\t+0.86\n",
      "INFO:__main__:steps:   10000, performance:\t2180.80 steps/s\n",
      "INFO:__main__:steps:   13136, average reward:\t+0.40\n",
      "INFO:__main__:steps:   16654, average reward:\t+0.67\n",
      "INFO:__main__:steps:   20000, performance:\t2340.70 steps/s\n",
      "INFO:__main__:steps:   20064, average reward:\t+0.67\n",
      "INFO:__main__:steps:   23488, average reward:\t+0.84\n",
      "INFO:__main__:steps:   26880, average reward:\t+0.81\n",
      "INFO:__main__:steps:   30000, performance:\t2263.13 steps/s\n",
      "INFO:__main__:steps:   30256, average reward:\t+0.84\n",
      "INFO:__main__:steps:   33744, average reward:\t+0.90\n",
      "INFO:__main__:steps:   37136, average reward:\t+0.94\n",
      "INFO:__main__:steps:   40000, performance:\t2293.46 steps/s\n",
      "INFO:__main__:steps:   40720, average reward:\t+1.06\n",
      "INFO:__main__:steps:   44192, average reward:\t+1.02\n",
      "INFO:__main__:steps:   47632, average reward:\t+0.98\n",
      "INFO:__main__:steps:   50000, performance:\t2256.51 steps/s\n",
      "INFO:__main__:steps:   51040, average reward:\t+1.04\n",
      "INFO:__main__:steps:   54672, average reward:\t+1.04\n",
      "INFO:__main__:steps:   58208, average reward:\t+1.03\n",
      "INFO:__main__:steps:   60000, performance:\t2316.59 steps/s\n",
      "INFO:__main__:steps:   61648, average reward:\t+0.99\n",
      "INFO:__main__:steps:   65056, average reward:\t+0.96\n",
      "INFO:__main__:steps:   68608, average reward:\t+1.05\n",
      "INFO:__main__:steps:   70000, performance:\t2320.50 steps/s\n",
      "INFO:__main__:steps:   72160, average reward:\t+1.01\n",
      "INFO:__main__:steps:   75615, average reward:\t+1.02\n",
      "INFO:__main__:steps:   79040, average reward:\t+1.00\n",
      "INFO:__main__:steps:   80000, performance:\t2314.71 steps/s\n"
     ]
    }
   ],
   "source": [
    "import amarl\n",
    "import gym\n",
    "from amarl.trainers import A2CTrainer\n",
    "from amarl.wrappers import MultipleEnvs, active_gym, OriginalReturnWrapper, SignReward,  TorchObservation, StackFrames\n",
    "\n",
    "def make_env():\n",
    "    e = gym.make('CubeCrash-v0')\n",
    "    e = OriginalReturnWrapper(e)\n",
    "    e = SignReward(e)\n",
    "    e = TorchObservation(e)\n",
    "    e = StackFrames(e, size=4)\n",
    "    return e\n",
    "\n",
    "env = MultipleEnvs(make_env, num_envs=16)\n",
    "with active_gym(env) as env, training_monitor(logger, performance_sample_size=10000) as monitor:\n",
    "    com = A2CTrainer(env, config={'rollout_length': 5, 'device': 'cuda'})\n",
    "    try:\n",
    "        amarl.run(com, num_episodes=1000)\n",
    "    finally:\n",
    "        pass"
   ]
  },
  {
   "cell_type": "markdown",
   "metadata": {
    "pycharm": {
     "name": "#%% md\n"
    }
   },
   "source": [
    "## Plot Results\n",
    "It is easier to understand how the agent is performing by plotting the metrics of the training. Sum bugs can be subtle,\n",
    "for instance it was not that obvious that the frame stack ordering was wrong, because the agent still learned a good\n",
    "policy and performed reasonably well. Because of such subtle bugs the algorithm can become more sensitive to certain\n",
    "hyper-parameters (i.e. gradient clipping), resulting in a misleading perception of importance of these parameters. Be\n",
    "careful!"
   ]
  },
  {
   "cell_type": "code",
   "execution_count": 5,
   "metadata": {
    "pycharm": {
     "name": "#%%\n"
    }
   },
   "outputs": [
    {
     "data": {
      "image/png": "[encoded data removed]",
      "text/plain": [
       "<Figure size 432x288 with 1 Axes>"
      ]
     },
     "metadata": {
      "needs_background": "light"
     },
     "output_type": "display_data"
    }
   ],
   "source": [
    "import matplotlib.pyplot as plt\n",
    "import numpy as np\n",
    "\n",
    "def moving_average(a, n=3):\n",
    "    ret = np.cumsum(np.insert(a, 0, 0))\n",
    "    return (ret[n:] - ret[:-n]) / n\n",
    "\n",
    "scores = monitor.captured_returns\n",
    "avg_window = 100\n",
    "scores_avg = moving_average(scores, avg_window)\n",
    "fig, ax = plt.subplots()\n",
    "ax.plot(range(len(scores)), scores)\n",
    "start = avg_window // 2\n",
    "ax.plot(range(start, start + len(scores_avg)), scores_avg)\n",
    "plt.ylabel('Score')\n",
    "plt.xlabel('Episode #')\n",
    "plt.show()\n"
   ]
  },
  {
   "cell_type": "code",
   "execution_count": null,
   "metadata": {},
   "outputs": [],
   "source": []
  }
 ],
 "metadata": {
  "kernelspec": {
   "display_name": "Python 3",
   "language": "python",
   "name": "python3"
  },
  "language_info": {
   "codemirror_mode": {
    "name": "ipython",
    "version": 3
   },
   "file_extension": ".py",
   "mimetype": "text/x-python",
   "name": "python",
   "nbconvert_exporter": "python",
   "pygments_lexer": "ipython3",
   "version": "3.6.7"
  }
 },
 "nbformat": 4,
 "nbformat_minor": 1
}
