{
 "cells": [
  {
   "cell_type": "markdown",
   "source": [
    "# Trainers\n",
    "\n",
    "In this notebook I test trainer implementations on various environments."
   ],
   "metadata": {
    "collapsed": false,
    "pycharm": {
     "name": "#%% md\n"
    }
   }
  },
  {
   "cell_type": "code",
   "execution_count": null,
   "outputs": [],
   "source": [
    "import amarl\n",
    "import gym\n",
    "from amarl.trainers import CommunicationTrainer\n",
    "from amarl.wrappers import RenderedObservation\n",
    "\n",
    "def make_env():\n",
    "    env = gym.make('CartPole-v0')\n",
    "    return RenderedObservation(env)\n",
    "\n",
    "com = CommunicationTrainer(make_env, config={'roll_out_length': 4, 'num_workser': 5})\n",
    "amarl.run(com, num_episodes=1000)"
   ],
   "metadata": {
    "collapsed": false,
    "pycharm": {
     "name": "#%%\n"
    }
   }
  }
 ],
 "metadata": {
  "kernelspec": {
   "display_name": "Python 3",
   "language": "python",
   "name": "python3"
  },
  "language_info": {
   "codemirror_mode": {
    "name": "ipython",
    "version": 2
   },
   "file_extension": ".py",
   "mimetype": "text/x-python",
   "name": "python",
   "nbconvert_exporter": "python",
   "pygments_lexer": "ipython2",
   "version": "2.7.6"
  },
  "pycharm": {
   "stem_cell": {
    "cell_type": "raw",
    "source": [],
    "metadata": {
     "collapsed": false
    }
   }
  }
 },
 "nbformat": 4,
 "nbformat_minor": 0
}