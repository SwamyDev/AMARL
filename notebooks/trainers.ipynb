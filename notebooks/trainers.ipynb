{
 "cells": [
  {
   "cell_type": "markdown",
   "metadata": {
    "pycharm": {
     "name": "#%% md\n"
    }
   },
   "source": [
    "# Trainers\n",
    "\n",
    "In this notebook I test trainer implementations on various environments."
   ]
  },
  {
   "cell_type": "markdown",
   "metadata": {
    "pycharm": {
     "name": "#%% md\n"
    }
   },
   "source": [
    "## Monitoring setup\n",
    "This sets up the logging system to be able to monitor the training progress of the agent"
   ]
  },
  {
   "cell_type": "code",
   "execution_count": 2,
   "metadata": {
    "pycharm": {
     "is_executing": false,
     "name": "#%%\n"
    }
   },
   "outputs": [],
   "source": [
    "import logging\n",
    "from amarl.messenger import training_monitor\n",
    "\n",
    "logging.basicConfig(level=logging.INFO,\n",
    "                    format='%(asctime)s - %(levelname)s:%(name)s: %(message)s')\n",
    "logging.root.setLevel(logging.INFO)\n",
    "\n",
    "logger = logging.getLogger(__name__)"
   ]
  },
  {
   "cell_type": "markdown",
   "metadata": {
    "pycharm": {
     "name": "#%% md\n"
    }
   },
   "source": [
    "## Train the Agent\n",
    "In the part I actually train the agent on one of the testing environments. It is a good idea to look at the gym unit\n",
    "testing environment first and try to solve that. If this doesn't work, there is something wrong either with the\n",
    "algorithm or the setup. Also make sure to sanity check input signal. Here the problem was that the input image was\n",
    "actually completely mangled by the torch vision pipeline because I used it wrong initally."
   ]
  },
  {
   "cell_type": "code",
   "execution_count": 5,
   "metadata": {
    "pycharm": {
     "name": "#%%\n"
    }
   },
   "outputs": [
    {
     "name": "stderr",
     "output_type": "stream",
     "text": [
      "/home/bernhard/miniconda3/envs/AMARL/lib/python3.6/site-packages/gym/envs/registration.py:14: PkgResourcesDeprecationWarning: Parameters to load are deprecated.  Call .resolve and .require separately.\n",
      "  result = entry_point.load(False)\n"
     ]
    },
    {
     "name": "stdout",
     "output_type": "stream",
     "text": [
      "\u001B[33mWARN: gym.spaces.Box autodetected dtype as <class 'numpy.float32'>. Please provide explicit dtype.\u001B[0m\n",
      "\u001B[33mWARN: gym.spaces.Box autodetected dtype as <class 'numpy.float32'>. Please provide explicit dtype.\u001B[0m\n",
      "\u001B[33mWARN: gym.spaces.Box autodetected dtype as <class 'numpy.float32'>. Please provide explicit dtype.\u001B[0m\n",
      "\u001B[33mWARN: gym.spaces.Box autodetected dtype as <class 'numpy.float32'>. Please provide explicit dtype.\u001B[0m\n",
      "\u001B[33mWARN: gym.spaces.Box autodetected dtype as <class 'numpy.float32'>. Please provide explicit dtype.\u001B[0m\n",
      "\u001B[33mWARN: gym.spaces.Box autodetected dtype as <class 'numpy.float32'>. Please provide explicit dtype.\u001B[0m\n",
      "\u001B[33mWARN: gym.spaces.Box autodetected dtype as <class 'numpy.float32'>. Please provide explicit dtype.\u001B[0m\n",
      "\u001B[33mWARN: gym.spaces.Box autodetected dtype as <class 'numpy.float32'>. Please provide explicit dtype.\u001B[0m\n",
      "\u001B[33mWARN: gym.spaces.Box autodetected dtype as <class 'numpy.float32'>. Please provide explicit dtype.\u001B[0m\n",
      "\u001B[33mWARN: gym.spaces.Box autodetected dtype as <class 'numpy.float32'>. Please provide explicit dtype.\u001B[0m\n",
      "\u001B[33mWARN: gym.spaces.Box autodetected dtype as <class 'numpy.float32'>. Please provide explicit dtype.\u001B[0m\n",
      "\u001B[33mWARN: gym.spaces.Box autodetected dtype as <class 'numpy.float32'>. Please provide explicit dtype.\u001B[0m\n",
      "\u001B[33mWARN: gym.spaces.Box autodetected dtype as <class 'numpy.float32'>. Please provide explicit dtype.\u001B[0m\n",
      "\u001B[33mWARN: gym.spaces.Box autodetected dtype as <class 'numpy.float32'>. Please provide explicit dtype.\u001B[0m\n",
      "\u001B[33mWARN: gym.spaces.Box autodetected dtype as <class 'numpy.float32'>. Please provide explicit dtype.\u001B[0m\n",
      "\u001B[33mWARN: gym.spaces.Box autodetected dtype as <class 'numpy.float32'>. Please provide explicit dtype.\u001B[0m\n"
     ]
    },
    {
     "name": "stderr",
     "output_type": "stream",
     "text": [
      "2020-04-11 16:11:30,743 - INFO:__main__: steps:    3296, average reward:\t-0.19\n",
      "2020-04-11 16:11:32,222 - INFO:__main__: steps:    6719, average reward:\t+0.33\n",
      "2020-04-11 16:11:33,645 - INFO:__main__: steps:   10000, performance:\t2276.51 steps/s\n",
      "2020-04-11 16:11:33,684 - INFO:__main__: steps:   10080, average reward:\t+0.53\n",
      "2020-04-11 16:11:35,140 - INFO:__main__: steps:   13472, average reward:\t+0.76\n",
      "2020-04-11 16:11:36,717 - INFO:__main__: steps:   16990, average reward:\t+0.74\n",
      "2020-04-11 16:11:38,002 - INFO:__main__: steps:   20000, performance:\t2295.28 steps/s\n",
      "2020-04-11 16:11:38,205 - INFO:__main__: steps:   20464, average reward:\t+0.98\n",
      "2020-04-11 16:11:39,674 - INFO:__main__: steps:   23856, average reward:\t+1.05\n",
      "2020-04-11 16:11:41,205 - INFO:__main__: steps:   27408, average reward:\t+1.02\n",
      "2020-04-11 16:11:42,315 - INFO:__main__: steps:   30000, performance:\t2319.48 steps/s\n",
      "2020-04-11 16:11:42,708 - INFO:__main__: steps:   30912, average reward:\t+0.94\n",
      "2020-04-11 16:11:44,183 - INFO:__main__: steps:   34336, average reward:\t+1.00\n",
      "2020-04-11 16:11:45,721 - INFO:__main__: steps:   37808, average reward:\t+1.04\n",
      "2020-04-11 16:11:46,654 - INFO:__main__: steps:   40000, performance:\t2304.56 steps/s\n",
      "2020-04-11 16:11:47,225 - INFO:__main__: steps:   41296, average reward:\t+1.02\n",
      "2020-04-11 16:11:48,747 - INFO:__main__: steps:   44848, average reward:\t+1.03\n",
      "2020-04-11 16:11:50,264 - INFO:__main__: steps:   48366, average reward:\t+1.03\n",
      "2020-04-11 16:11:50,965 - INFO:__main__: steps:   50000, performance:\t2320.61 steps/s\n",
      "2020-04-11 16:11:51,750 - INFO:__main__: steps:   51808, average reward:\t+0.98\n",
      "2020-04-11 16:11:53,228 - INFO:__main__: steps:   55232, average reward:\t+0.98\n",
      "2020-04-11 16:11:54,748 - INFO:__main__: steps:   58816, average reward:\t+1.05\n",
      "2020-04-11 16:11:55,256 - INFO:__main__: steps:   60000, performance:\t2330.48 steps/s\n",
      "2020-04-11 16:11:56,244 - INFO:__main__: steps:   62288, average reward:\t+1.02\n",
      "2020-04-11 16:11:57,754 - INFO:__main__: steps:   65792, average reward:\t+1.06\n",
      "2020-04-11 16:11:59,246 - INFO:__main__: steps:   69296, average reward:\t+1.07\n",
      "2020-04-11 16:11:59,545 - INFO:__main__: steps:   70000, performance:\t2332.03 steps/s\n",
      "2020-04-11 16:12:00,742 - INFO:__main__: steps:   72784, average reward:\t+1.07\n",
      "2020-04-11 16:12:02,284 - INFO:__main__: steps:   76368, average reward:\t+1.04\n",
      "2020-04-11 16:12:03,836 - INFO:__main__: steps:   79776, average reward:\t+1.03\n",
      "2020-04-11 16:12:03,928 - INFO:__main__: steps:   80000, performance:\t2281.80 steps/s\n",
      "2020-04-11 16:12:05,361 - INFO:__main__: steps:   83327, average reward:\t+1.04\n",
      "2020-04-11 16:12:06,836 - INFO:__main__: steps:   86800, average reward:\t+1.07\n",
      "2020-04-11 16:12:08,212 - INFO:__main__: steps:   90000, performance:\t2334.72 steps/s\n",
      "2020-04-11 16:12:08,338 - INFO:__main__: steps:   90272, average reward:\t+1.07\n",
      "2020-04-11 16:12:09,852 - INFO:__main__: steps:   93808, average reward:\t+1.01\n",
      "2020-04-11 16:12:11,331 - INFO:__main__: steps:   97264, average reward:\t+1.01\n",
      "2020-04-11 16:12:12,537 - INFO:__main__: steps:  100000, performance:\t2312.12 steps/s\n"
     ]
    }
   ],
   "source": [
    "import amarl\n",
    "import gym\n",
    "from amarl.trainers import A2CTrainer\n",
    "from amarl.wrappers import MultipleEnvs, active_gym, OriginalReturnWrapper, SignReward,  TorchObservation, StackFrames\n",
    "\n",
    "def make_env():\n",
    "    e = gym.make('CubeCrash-v0')\n",
    "    e = OriginalReturnWrapper(e)\n",
    "    e = SignReward(e)\n",
    "    e = TorchObservation(e)\n",
    "    e = StackFrames(e, size=4)\n",
    "    return e\n",
    "\n",
    "env = MultipleEnvs(make_env, num_envs=16)\n",
    "with active_gym(env) as env, training_monitor(logger, performance_sample_size=10000) as monitor:\n",
    "    com = A2CTrainer(env, config={'rollout_horizon': 5, 'device': 'cuda'})\n",
    "    try:\n",
    "        amarl.run(com, num_steps=int(1e5))\n",
    "    finally:\n",
    "        pass"
   ]
  },
  {
   "cell_type": "markdown",
   "metadata": {
    "pycharm": {
     "name": "#%% md\n"
    }
   },
   "source": [
    "## Plot Results\n",
    "It is easier to understand how the agent is performing by plotting the metrics of the training. Sum bugs can be subtle,\n",
    "for instance it was not that obvious that the frame stack ordering was wrong, because the agent still learned a good\n",
    "policy and performed reasonably well. Because of such subtle bugs the algorithm can become more sensitive to certain\n",
    "hyper-parameters (i.e. gradient clipping), resulting in a misleading perception of importance of these parameters. Be\n",
    "careful!"
   ]
  },
  {
   "cell_type": "code",
   "execution_count": 6,
   "metadata": {
    "pycharm": {
     "name": "#%%\n"
    }
   },
   "outputs": [
    {
     "data": {
      "image/png": "[encoded data removed]",
      "text/plain": [
       "<Figure size 432x288 with 1 Axes>"
      ]
     },
     "metadata": {
      "needs_background": "light"
     },
     "output_type": "display_data"
    }
   ],
   "source": [
    "import matplotlib.pyplot as plt\n",
    "import numpy as np\n",
    "\n",
    "def moving_average(a, n=3):\n",
    "    ret = np.cumsum(np.insert(a, 0, 0))\n",
    "    return (ret[n:] - ret[:-n]) / n\n",
    "\n",
    "scores = monitor.captured_returns\n",
    "avg_window = 100\n",
    "scores_avg = moving_average(scores, avg_window)\n",
    "fig, ax = plt.subplots()\n",
    "ax.plot(range(len(scores)), scores)\n",
    "start = avg_window // 2\n",
    "ax.plot(range(start, start + len(scores_avg)), scores_avg)\n",
    "plt.ylabel('Score')\n",
    "plt.xlabel('Episode #')\n",
    "plt.show()\n"
   ]
  },
  {
   "cell_type": "code",
   "execution_count": null,
   "metadata": {},
   "outputs": [],
   "source": []
  }
 ],
 "metadata": {
  "kernelspec": {
   "display_name": "Python 3",
   "language": "python",
   "name": "python3"
  },
  "language_info": {
   "codemirror_mode": {
    "name": "ipython",
    "version": 3
   },
   "file_extension": ".py",
   "mimetype": "text/x-python",
   "name": "python",
   "nbconvert_exporter": "python",
   "pygments_lexer": "ipython3",
   "version": "3.6.7"
  }
 },
 "nbformat": 4,
 "nbformat_minor": 1
}