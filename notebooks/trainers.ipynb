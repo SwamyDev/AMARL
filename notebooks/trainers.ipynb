{
 "cells": [
  {
   "cell_type": "markdown",
   "metadata": {
    "pycharm": {
     "name": "#%% md\n"
    }
   },
   "source": [
    "# Trainers\n",
    "\n",
    "In this notebook I test trainer implementations on various environments."
   ]
  },
  {
   "cell_type": "code",
   "execution_count": 3,
   "metadata": {
    "pycharm": {
     "is_executing": false,
     "name": "#%%\n"
    }
   },
   "outputs": [
    {
     "name": "stdout",
     "output_type": "stream",
     "text": [
      "\u001B[33mWARN: gym.spaces.Box autodetected dtype as <class 'numpy.float32'>. Please provide explicit dtype.\u001B[0m\n",
      "\u001B[33mWARN: gym.spaces.Box autodetected dtype as <class 'numpy.float32'>. Please provide explicit dtype.\u001B[0m\n",
      "\u001B[33mWARN: gym.spaces.Box autodetected dtype as <class 'numpy.float32'>. Please provide explicit dtype.\u001B[0m\n",
      "\u001B[33mWARN: gym.spaces.Box autodetected dtype as <class 'numpy.float32'>. Please provide explicit dtype.\u001B[0m\n",
      "\u001B[33mWARN: gym.spaces.Box autodetected dtype as <class 'numpy.float32'>. Please provide explicit dtype.\u001B[0m\n",
      "\u001B[33mWARN: gym.spaces.Box autodetected dtype as <class 'numpy.float32'>. Please provide explicit dtype.\u001B[0m\n",
      "\u001B[33mWARN: gym.spaces.Box autodetected dtype as <class 'numpy.float32'>. Please provide explicit dtype.\u001B[0m\n",
      "\u001B[33mWARN: gym.spaces.Box autodetected dtype as <class 'numpy.float32'>. Please provide explicit dtype.\u001B[0m\n",
      "\u001B[33mWARN: gym.spaces.Box autodetected dtype as <class 'numpy.float32'>. Please provide explicit dtype.\u001B[0m\n",
      "\u001B[33mWARN: gym.spaces.Box autodetected dtype as <class 'numpy.float32'>. Please provide explicit dtype.\u001B[0m\n",
      "\u001B[33mWARN: gym.spaces.Box autodetected dtype as <class 'numpy.float32'>. Please provide explicit dtype.\u001B[0m\n",
      "\u001B[33mWARN: gym.spaces.Box autodetected dtype as <class 'numpy.float32'>. Please provide explicit dtype.\u001B[0m\n",
      "\u001B[33mWARN: gym.spaces.Box autodetected dtype as <class 'numpy.float32'>. Please provide explicit dtype.\u001B[0m\n",
      "\u001B[33mWARN: gym.spaces.Box autodetected dtype as <class 'numpy.float32'>. Please provide explicit dtype.\u001B[0m\n",
      "\u001B[33mWARN: gym.spaces.Box autodetected dtype as <class 'numpy.float32'>. Please provide explicit dtype.\u001B[0m\n",
      "\u001B[33mWARN: gym.spaces.Box autodetected dtype as <class 'numpy.float32'>. Please provide explicit dtype.\u001B[0m\n"
     ]
    },
    {
     "name": "stderr",
     "output_type": "stream",
     "text": [
      "INFO:amarl.workers:steps: 3120, last reward: -0.4355999999999999\n",
      "INFO:amarl.workers:steps: 6160, last reward: -0.4760999999999999\n",
      "INFO:amarl.workers:steps: 9600, last reward: 0.109\n",
      "INFO:amarl.workers:steps: 10000, performance: 2332.31695280242steps/s\n",
      "INFO:amarl.workers:steps: 12960, last reward: 0.2514\n",
      "INFO:amarl.workers:steps: 16400, last reward: 0.7066000000000003\n",
      "INFO:amarl.workers:steps: 19760, last reward: 0.7603\n",
      "INFO:amarl.workers:steps: 20000, performance: 2174.9355241100625steps/s\n",
      "INFO:amarl.workers:steps: 23200, last reward: 0.9446000000000003\n",
      "INFO:amarl.workers:steps: 26640, last reward: 0.9570999999999996\n",
      "INFO:amarl.workers:steps: 30000, performance: 2245.144878162078steps/s\n",
      "INFO:amarl.workers:steps: 30240, last reward: 1.0274000000000003\n",
      "INFO:amarl.workers:steps: 33760, last reward: 0.9231\n",
      "INFO:amarl.workers:steps: 37200, last reward: 1.0191000000000006\n",
      "INFO:amarl.workers:steps: 40000, performance: 2164.221773826321steps/s\n",
      "INFO:amarl.workers:steps: 40560, last reward: 1.0041000000000002\n",
      "INFO:amarl.workers:steps: 44160, last reward: 1.0057000000000007\n",
      "INFO:amarl.workers:steps: 47680, last reward: 0.9410000000000003\n",
      "INFO:amarl.workers:steps: 50000, performance: 2257.3913444089267steps/s\n",
      "INFO:amarl.workers:steps: 51120, last reward: 0.8970000000000001\n",
      "INFO:amarl.workers:steps: 54560, last reward: 0.9590000000000003\n",
      "INFO:amarl.workers:steps: 58000, last reward: 1.0242999999999998\n",
      "INFO:amarl.workers:steps: 60000, performance: 2247.2675630331883steps/s\n",
      "INFO:amarl.workers:steps: 61600, last reward: 1.0094999999999998\n",
      "INFO:amarl.workers:steps: 65120, last reward: 1.0501999999999996\n",
      "INFO:amarl.workers:steps: 68560, last reward: 1.0619999999999998\n",
      "INFO:amarl.workers:steps: 70000, performance: 2256.4382643103713steps/s\n",
      "INFO:amarl.workers:steps: 72000, last reward: 1.0497\n",
      "INFO:amarl.workers:steps: 75520, last reward: 1.0531999999999997\n",
      "INFO:amarl.workers:steps: 79040, last reward: 1.0626999999999998\n",
      "INFO:amarl.workers:steps: 80000, performance: 2261.2775604901817steps/s\n"
     ]
    },
    {
     "data": {
      "image/png": "[encoded data removed]",
      "text/plain": [
       "<Figure size 432x288 with 1 Axes>"
      ]
     },
     "metadata": {
      "needs_background": "light"
     },
     "output_type": "display_data"
    }
   ],
   "source": [
    "import logging\n",
    "import amarl\n",
    "import gym\n",
    "import numpy as np\n",
    "from amarl.trainers import A2CTrainer\n",
    "from amarl.wrappers import RenderedObservation, MultipleEnvs, active_gym, OriginalReturnWrapper, SignReward, \\\n",
    "    TorchObservation, StackFrames\n",
    "\n",
    "\n",
    "logging.basicConfig(level=logging.INFO)\n",
    "logging.root.setLevel(logging.INFO)\n",
    "\n",
    "def moving_average(a, n=3):\n",
    "    ret = np.cumsum(np.insert(a, 0, 0))\n",
    "    return (ret[n:] - ret[:-n]) / n\n",
    "\n",
    "\n",
    "def make_env():\n",
    "    e = gym.make('CubeCrash-v0')\n",
    "    e = OriginalReturnWrapper(e)\n",
    "    e = SignReward(e)\n",
    "    e = TorchObservation(e)\n",
    "    e = StackFrames(e, size=4)\n",
    "    return e\n",
    "\n",
    "env = MultipleEnvs(make_env, num_envs=16)\n",
    "with active_gym(env) as env:\n",
    "    com = A2CTrainer(env, config={'rollout_length': 5, 'device': 'cuda'})\n",
    "    try:\n",
    "        amarl.run(com, num_episodes=1000)\n",
    "    finally:\n",
    "        import matplotlib.pyplot as plt\n",
    "        scores = com._worker._final_rewards\n",
    "        avg_window = 100\n",
    "        scores_avg = moving_average(scores, avg_window)                    \n",
    "        fig, ax = plt.subplots()                                                                            \n",
    "        ax.plot(range(len(scores)), scores)                       \n",
    "        start = avg_window // 2\n",
    "        ax.plot(range(start, start + len(scores_avg)), scores_avg)\n",
    "        plt.ylabel('Score')\n",
    "        plt.xlabel('Episode #')      \n",
    "        plt.show()  "
   ]
  },
  {
   "cell_type": "code",
   "execution_count": null,
   "outputs": [],
   "source": [],
   "metadata": {
    "collapsed": false,
    "pycharm": {
     "name": "#%%\n"
    }
   }
  },
  {
   "cell_type": "code",
   "execution_count": null,
   "metadata": {
    "pycharm": {
     "name": "#%%\n"
    }
   },
   "outputs": [],
   "source": []
  },
  {
   "cell_type": "code",
   "execution_count": null,
   "metadata": {
    "pycharm": {
     "name": "#%%\n"
    }
   },
   "outputs": [],
   "source": []
  },
  {
   "cell_type": "code",
   "execution_count": null,
   "metadata": {
    "pycharm": {
     "name": "#%%\n"
    }
   },
   "outputs": [],
   "source": []
  },
  {
   "cell_type": "code",
   "execution_count": null,
   "metadata": {},
   "outputs": [],
   "source": []
  }
 ],
 "metadata": {
  "kernelspec": {
   "display_name": "Python 3",
   "language": "python",
   "name": "python3"
  },
  "language_info": {
   "codemirror_mode": {
    "name": "ipython",
    "version": 3
   },
   "file_extension": ".py",
   "mimetype": "text/x-python",
   "name": "python",
   "nbconvert_exporter": "python",
   "pygments_lexer": "ipython3",
   "version": "3.6.7"
  }
 },
 "nbformat": 4,
 "nbformat_minor": 1
}