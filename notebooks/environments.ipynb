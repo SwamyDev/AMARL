{
 "cells": [
  {
   "cell_type": "markdown",
   "metadata": {},
   "source": [
    "# Exploring Environments\n",
    "This notebook provides the means to explore different environments in more details and test processing functions interactively"
   ]
  },
  {
   "cell_type": "markdown",
   "metadata": {
    "pycharm": {
     "name": "#%% md\n"
    }
   },
   "source": [
    "## OpenAI CartPole\n",
    "This environment is used for testing, to make sure that agents actually are capable of learning something with the models used.\n",
    "\n",
    "### Environment Observation Frames\n",
    "The render output of CarPole needs to be processed, so the model (for instance `CommunicationNet`) can use it. The first section looks at the output produced by CartPole and the second one at the processed render frames."
   ]
  },
  {
   "cell_type": "markdown",
   "metadata": {
    "pycharm": {
     "name": "#%% md\n"
    }
   },
   "source": [
    "#### Environemnt Render Output"
   ]
  },
  {
   "cell_type": "code",
   "execution_count": 3,
   "metadata": {
    "pycharm": {
     "is_executing": false,
     "name": "#%%\n"
    }
   },
   "outputs": [
    {
     "name": "stdout",
     "output_type": "stream",
     "text": [
      "Populating the interactive namespace from numpy and matplotlib\n",
      "Screen shape: (400, 600, 3)\n",
      "Example screen rendering:\n"
     ]
    },
    {
     "data": {
      "image/png": "[encoded data removed]",
      "text/plain": [
       "<Figure size 432x288 with 1 Axes>"
      ]
     },
     "metadata": {
      "needs_background": "light"
     },
     "output_type": "display_data"
    }
   ],
   "source": [
    "%matplotlib inline\n",
    "from matplotlib import pyplot as plt\n",
    "%pylab inline\n",
    "import gym\n",
    "\n",
    "env = gym.make('CartPole-v0').unwrapped\n",
    "env.reset()\n",
    "screen = env.render(mode='rgb_array')\n",
    "env.close()\n",
    "\n",
    "print(f\"Screen shape: {screen.shape}\")\n",
    "print(f\"Example screen rendering:\")\n",
    "plt.imshow(screen)\n",
    "plt.show()"
   ]
  },
  {
   "cell_type": "markdown",
   "metadata": {
    "pycharm": {
     "name": "#%% md\n"
    }
   },
   "source": [
    "To work with the PyTorch models these renderings need to be processed. Hence, the grab screen method has been implemented, which requests the rendered screen from the environment and processes it. In doing so it takes into account the current position of the cart to crop the image properly."
   ]
  },
  {
   "cell_type": "code",
   "execution_count": 4,
   "metadata": {
    "pycharm": {
     "is_executing": false,
     "name": "#%%\n"
    }
   },
   "outputs": [
    {
     "name": "stdout",
     "output_type": "stream",
     "text": [
      "Populating the interactive namespace from numpy and matplotlib\n",
      "processed shape: torch.Size([3, 40, 40])\n"
     ]
    },
    {
     "data": {
      "image/png": "[encoded data removed]",
      "text/plain": [
       "<Figure size 432x288 with 1 Axes>"
      ]
     },
     "metadata": {
      "needs_background": "light"
     },
     "output_type": "display_data"
    }
   ],
   "source": [
    "%matplotlib inline\n",
    "from matplotlib import pyplot as plt\n",
    "%pylab inline\n",
    "import gym\n",
    "\n",
    "from amarl.processing import get_cart_pos_normalized, proc_screen\n",
    "\n",
    "\n",
    "env = gym.make('CartPole-v0').unwrapped\n",
    "env.reset()\n",
    "screen = env.render(mode='rgb_array')\n",
    "cart_pos = get_cart_pos_normalized(env, screen.shape[1])\n",
    "env.close()\n",
    "\n",
    "processed = proc_screen(screen, cart_pos)\n",
    "print(f\"processed shape: {processed.shape}\")\n",
    "plt.imshow(processed.permute(1, 2, 0).numpy())\n",
    "plt.show()\n"
   ]
  },
  {
   "cell_type": "code",
   "execution_count": null,
   "metadata": {},
   "outputs": [],
   "source": []
  }
 ],
 "metadata": {
  "kernelspec": {
   "display_name": "Python 3",
   "language": "python",
   "name": "python3"
  },
  "language_info": {
   "codemirror_mode": {
    "name": "ipython",
    "version": 3
   },
   "file_extension": ".py",
   "mimetype": "text/x-python",
   "name": "python",
   "nbconvert_exporter": "python",
   "pygments_lexer": "ipython3",
   "version": "3.6.7"
  },
  "pycharm": {
   "stem_cell": {
    "cell_type": "raw",
    "metadata": {
     "collapsed": false
    },
    "source": []
   }
  }
 },
 "nbformat": 4,
 "nbformat_minor": 1
}
